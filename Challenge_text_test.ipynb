{
 "cells": [
  {
   "cell_type": "markdown",
   "metadata": {},
   "source": [
    "# Challenges on the text classfication with the best model"
   ]
  },
  {
   "cell_type": "markdown",
   "metadata": {},
   "source": [
    "## Import libraries"
   ]
  },
  {
   "cell_type": "code",
   "execution_count": 1,
   "metadata": {},
   "outputs": [],
   "source": [
    "from text_preprocess import clean_text\n",
    "from get_more_features import *\n",
    "from embedding_word import *\n",
    "from gensim.models import Word2Vec\n",
    "import pandas as pd\n",
    "from scipy.sparse import csr_matrix, hstack\n",
    "import joblib"
   ]
  },
  {
   "cell_type": "markdown",
   "metadata": {},
   "source": [
    "## Load Data"
   ]
  },
  {
   "cell_type": "code",
   "execution_count": 2,
   "metadata": {},
   "outputs": [],
   "source": [
    "\n",
    "new_reviews = open('Mini_Project_2_Data/challenge_data.txt', encoding='utf-8').read().splitlines()\n"
   ]
  },
  {
   "cell_type": "markdown",
   "metadata": {},
   "source": [
    "## Load necessary components "
   ]
  },
  {
   "cell_type": "code",
   "execution_count": 3,
   "metadata": {},
   "outputs": [],
   "source": [
    "\n",
    "# Load the Word2Vec model\n",
    "model = Word2Vec.load(\"Deploy_streamlit/word2vec_model.bin\")\n",
    "\n",
    "# Scale the new reviews data using MaxAbsScaler\n",
    "scaler = joblib.load('Deploy_streamlit/maxabs_scaler.pkl')  \n"
   ]
  },
  {
   "cell_type": "code",
   "execution_count": 11,
   "metadata": {},
   "outputs": [],
   "source": [
    "# MLP Model\n",
    "mlp_model = joblib.load('best_mlp.pkl')  \n",
    "nb_tfidf = joblib.load('nb_tfidf.pkl')  "
   ]
  },
  {
   "cell_type": "markdown",
   "metadata": {},
   "source": [
    "## Text Preprocessing and cleanning"
   ]
  },
  {
   "cell_type": "code",
   "execution_count": 5,
   "metadata": {},
   "outputs": [],
   "source": [
    "\n",
    "# Text Preprocessing for New Reviews\n",
    "cleaned_new_reviews = [clean_text(review) for review in new_reviews]\n",
    "\n",
    "# Convert new reviews to Word2Vec embeddings\n",
    "new_reviews_transformed = text_to_word_embeddings(cleaned_new_reviews, model)\n",
    "\n",
    "# Convert numeric features for new reviews\n",
    "new_reviews_numeric_features = pd.DataFrame({\n",
    "    'count_positive_words': [count_positive_words(review) for review in cleaned_new_reviews],\n",
    "    'count_negative_words': [count_negative_words(review) for review in cleaned_new_reviews],\n",
    "    'contain_no': [contain_no(review) for review in cleaned_new_reviews],\n",
    "    'contain_not': [contain_not(review) for review in cleaned_new_reviews],\n",
    "    'contain_exclamation': [contain_exclamation(review) for review in cleaned_new_reviews],\n",
    "    'log_review_length': [log_review_length(review) for review in cleaned_new_reviews],\n",
    "    'emotion_label': [get_emotion_label(review) for review in cleaned_new_reviews],\n",
    "    'sentiment_score': [calculate_sentiment_score(review) for review in cleaned_new_reviews],\n",
    "})\n",
    "\n",
    "# Concatenate the word embeddings and other features for new reviews\n",
    "new_reviews_data = hstack([new_reviews_transformed, csr_matrix(new_reviews_numeric_features)])\n"
   ]
  },
  {
   "cell_type": "code",
   "execution_count": 6,
   "metadata": {},
   "outputs": [],
   "source": [
    "new_reviews_scaled = scaler.transform(new_reviews_data)"
   ]
  },
  {
   "cell_type": "markdown",
   "metadata": {},
   "source": [
    "## Predictions"
   ]
  },
  {
   "cell_type": "code",
   "execution_count": 7,
   "metadata": {},
   "outputs": [
    {
     "name": "stdout",
     "output_type": "stream",
     "text": [
      "MLPClassifier Predictions: [0 1 1 ... 1 1 0]\n"
     ]
    }
   ],
   "source": [
    "# Make Predictions for each model\n",
    "mlp_predictions = mlp_model.predict(new_reviews_scaled)\n",
    "\n",
    "print(\"MLPClassifier Predictions:\", mlp_predictions)\n"
   ]
  },
  {
   "cell_type": "markdown",
   "metadata": {},
   "source": [
    "## Save Result"
   ]
  },
  {
   "cell_type": "code",
   "execution_count": null,
   "metadata": {},
   "outputs": [],
   "source": [
    "# Save predictions to result.txt\n",
    "with open(\"group6_mini_project_2_challenge.txt\", \"w\", encoding=\"utf-8\") as file:\n",
    "    for prediction in mlp_predictions:\n",
    "        file.write(str(prediction))\n",
    "\n"
   ]
  }
 ],
 "metadata": {
  "kernelspec": {
   "display_name": "Python 3",
   "language": "python",
   "name": "python3"
  },
  "language_info": {
   "codemirror_mode": {
    "name": "ipython",
    "version": 3
   },
   "file_extension": ".py",
   "mimetype": "text/x-python",
   "name": "python",
   "nbconvert_exporter": "python",
   "pygments_lexer": "ipython3",
   "version": "3.12.1"
  }
 },
 "nbformat": 4,
 "nbformat_minor": 2
}
