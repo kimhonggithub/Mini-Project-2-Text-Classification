{
 "cells": [
  {
   "cell_type": "markdown",
   "metadata": {},
   "source": [
    "# Text Clssification Mini Project 2"
   ]
  },
  {
   "cell_type": "markdown",
   "metadata": {},
   "source": [
    "## 1. Data Loading and Exploration"
   ]
  },
  {
   "cell_type": "markdown",
   "metadata": {},
   "source": [
    "### 1.1 Importing the necessary libraries:"
   ]
  },
  {
   "cell_type": "code",
   "execution_count": 3,
   "metadata": {},
   "outputs": [],
   "source": [
    "import numpy as np\n",
    "import pandas as pd\n",
    "from sklearn.feature_extraction.text import CountVectorizer\n",
    "from sklearn.model_selection import train_test_split\n",
    "from sklearn.linear_model import LogisticRegression\n",
    "from sklearn.ensemble import RandomForestClassifier\n",
    "from sklearn.svm import SVC\n",
    "from sklearn.neural_network import MLPClassifier\n",
    "from sklearn.metrics import accuracy_score\n",
    "import nltk\n",
    "import re\n",
    "import math\n",
    "from nltk.tokenize import word_tokenize\n",
    "\n",
    "# Import Additional Libraries\n",
    "import contractions\n",
    "import string\n",
    "from nrclex import NRCLex\n",
    "from textblob import TextBlob\n",
    "\n",
    "# Import Spacy libary\n",
    "import spacy\n",
    "# Load the pre-trained spaCy model\n",
    "nlp = spacy.load('en_core_web_sm')"
   ]
  },
  {
   "cell_type": "markdown",
   "metadata": {},
   "source": [
    "### 1.2 Data Loading"
   ]
  },
  {
   "cell_type": "markdown",
   "metadata": {},
   "source": [
    "Read positive and negative reviews"
   ]
  },
  {
   "cell_type": "code",
   "execution_count": 4,
   "metadata": {},
   "outputs": [],
   "source": [
    "# Read positive and negative reviews\n",
    "\n",
    "positive_reviews = open('Mini_Project_2_Data/positive-reviews.txt', encoding='utf-8').read().splitlines()\n",
    "negative_reviews = open('Mini_Project_2_Data/negative-reviews.txt', encoding='utf-8').read().splitlines()"
   ]
  },
  {
   "cell_type": "markdown",
   "metadata": {},
   "source": [
    "Read positive and negative words from files"
   ]
  },
  {
   "cell_type": "code",
   "execution_count": 5,
   "metadata": {},
   "outputs": [],
   "source": [
    "# Read positive and negative words from files\n",
    "\n",
    "positive_words = set(open('Mini_Project_2_Data/positive-words.txt').read().splitlines())\n",
    "negative_words = set(open('Mini_Project_2_Data/negative-words.txt').read().splitlines())"
   ]
  },
  {
   "cell_type": "markdown",
   "metadata": {},
   "source": [
    "Combine to Dataframe"
   ]
  },
  {
   "cell_type": "code",
   "execution_count": 6,
   "metadata": {},
   "outputs": [],
   "source": [
    "# Combine negative and positive reviews\n",
    "reviews = negative_reviews + positive_reviews\n",
    "\n",
    "# Create a DataFrame with a 'Reviews' column\n",
    "df = pd.DataFrame({'Reviews': reviews})\n",
    "\n",
    "# Create labels\n",
    "labels = [0] * len(negative_reviews) + [1] * len(positive_reviews)\n",
    "\n",
    "# Add a 'Label' column to the DataFrame\n",
    "df['Label'] = labels\n"
   ]
  },
  {
   "cell_type": "code",
   "execution_count": 7,
   "metadata": {},
   "outputs": [
    {
     "data": {
      "text/html": [
       "<div>\n",
       "<style scoped>\n",
       "    .dataframe tbody tr th:only-of-type {\n",
       "        vertical-align: middle;\n",
       "    }\n",
       "\n",
       "    .dataframe tbody tr th {\n",
       "        vertical-align: top;\n",
       "    }\n",
       "\n",
       "    .dataframe thead th {\n",
       "        text-align: right;\n",
       "    }\n",
       "</style>\n",
       "<table border=\"1\" class=\"dataframe\">\n",
       "  <thead>\n",
       "    <tr style=\"text-align: right;\">\n",
       "      <th></th>\n",
       "      <th>Reviews</th>\n",
       "      <th>Label</th>\n",
       "    </tr>\n",
       "  </thead>\n",
       "  <tbody>\n",
       "    <tr>\n",
       "      <th>0</th>\n",
       "      <td>8x optical zoom, Rotatable lens, Large LCD screen</td>\n",
       "      <td>1</td>\n",
       "    </tr>\n",
       "    <tr>\n",
       "      <th>1</th>\n",
       "      <td>Versatility</td>\n",
       "      <td>1</td>\n",
       "    </tr>\n",
       "    <tr>\n",
       "      <th>2</th>\n",
       "      <td>Inexpensive, good quality print, ease of use</td>\n",
       "      <td>1</td>\n",
       "    </tr>\n",
       "    <tr>\n",
       "      <th>3</th>\n",
       "      <td>Easy to use, great navigation system, great co...</td>\n",
       "      <td>1</td>\n",
       "    </tr>\n",
       "    <tr>\n",
       "      <th>4</th>\n",
       "      <td>Incredible features. Incredible resolution. In...</td>\n",
       "      <td>1</td>\n",
       "    </tr>\n",
       "    <tr>\n",
       "      <th>...</th>\n",
       "      <td>...</td>\n",
       "      <td>...</td>\n",
       "    </tr>\n",
       "    <tr>\n",
       "      <th>39995</th>\n",
       "      <td>paper jams in some printers-not mine-rare</td>\n",
       "      <td>0</td>\n",
       "    </tr>\n",
       "    <tr>\n",
       "      <th>39996</th>\n",
       "      <td>Easy to use and versatile.</td>\n",
       "      <td>1</td>\n",
       "    </tr>\n",
       "    <tr>\n",
       "      <th>39997</th>\n",
       "      <td>Battery Life, Shutter Speed is temperamental a...</td>\n",
       "      <td>0</td>\n",
       "    </tr>\n",
       "    <tr>\n",
       "      <th>39998</th>\n",
       "      <td>BATTERY LIFE, reception</td>\n",
       "      <td>0</td>\n",
       "    </tr>\n",
       "    <tr>\n",
       "      <th>39999</th>\n",
       "      <td>Easy to use, fairly large storage, good featur...</td>\n",
       "      <td>1</td>\n",
       "    </tr>\n",
       "  </tbody>\n",
       "</table>\n",
       "<p>40000 rows × 2 columns</p>\n",
       "</div>"
      ],
      "text/plain": [
       "                                                 Reviews  Label\n",
       "0      8x optical zoom, Rotatable lens, Large LCD screen      1\n",
       "1                                            Versatility      1\n",
       "2           Inexpensive, good quality print, ease of use      1\n",
       "3      Easy to use, great navigation system, great co...      1\n",
       "4      Incredible features. Incredible resolution. In...      1\n",
       "...                                                  ...    ...\n",
       "39995          paper jams in some printers-not mine-rare      0\n",
       "39996                         Easy to use and versatile.      1\n",
       "39997  Battery Life, Shutter Speed is temperamental a...      0\n",
       "39998                            BATTERY LIFE, reception      0\n",
       "39999  Easy to use, fairly large storage, good featur...      1\n",
       "\n",
       "[40000 rows x 2 columns]"
      ]
     },
     "execution_count": 7,
     "metadata": {},
     "output_type": "execute_result"
    }
   ],
   "source": [
    "df = df.sample(frac=1).reset_index(drop=True)\n",
    "df"
   ]
  },
  {
   "cell_type": "code",
   "execution_count": 8,
   "metadata": {},
   "outputs": [
    {
     "data": {
      "text/plain": [
       "<Axes: xlabel='Label'>"
      ]
     },
     "execution_count": 8,
     "metadata": {},
     "output_type": "execute_result"
    },
    {
     "data": {
      "image/png": "[encoded data removed]",
      "text/plain": [
       "<Figure size 640x480 with 1 Axes>"
      ]
     },
     "metadata": {},
     "output_type": "display_data"
    }
   ],
   "source": [
    "df['Label'].value_counts(normalize = True).plot.bar()"
   ]
  },
  {
   "cell_type": "markdown",
   "metadata": {},
   "source": [
    "## 2. Text Preprocessing and Cleaning\n"
   ]
  },
  {
   "cell_type": "markdown",
   "metadata": {},
   "source": [
    "### 2.1 Cleaning "
   ]
  },
  {
   "cell_type": "code",
   "execution_count": 9,
   "metadata": {},
   "outputs": [],
   "source": [
    "# Remove newline characters from the 'review_text' column\n",
    "df['Reviews'] = df['Reviews'].str.strip()"
   ]
  },
  {
   "cell_type": "code",
   "execution_count": 10,
   "metadata": {},
   "outputs": [
    {
     "data": {
      "text/html": [
       "<div>\n",
       "<style scoped>\n",
       "    .dataframe tbody tr th:only-of-type {\n",
       "        vertical-align: middle;\n",
       "    }\n",
       "\n",
       "    .dataframe tbody tr th {\n",
       "        vertical-align: top;\n",
       "    }\n",
       "\n",
       "    .dataframe thead th {\n",
       "        text-align: right;\n",
       "    }\n",
       "</style>\n",
       "<table border=\"1\" class=\"dataframe\">\n",
       "  <thead>\n",
       "    <tr style=\"text-align: right;\">\n",
       "      <th></th>\n",
       "      <th>Reviews</th>\n",
       "      <th>Label</th>\n",
       "    </tr>\n",
       "  </thead>\n",
       "  <tbody>\n",
       "    <tr>\n",
       "      <th>233</th>\n",
       "      <td>None</td>\n",
       "      <td>0</td>\n",
       "    </tr>\n",
       "    <tr>\n",
       "      <th>421</th>\n",
       "      <td>None</td>\n",
       "      <td>0</td>\n",
       "    </tr>\n",
       "    <tr>\n",
       "      <th>702</th>\n",
       "      <td>None</td>\n",
       "      <td>0</td>\n",
       "    </tr>\n",
       "    <tr>\n",
       "      <th>781</th>\n",
       "      <td>None</td>\n",
       "      <td>0</td>\n",
       "    </tr>\n",
       "    <tr>\n",
       "      <th>989</th>\n",
       "      <td>None</td>\n",
       "      <td>0</td>\n",
       "    </tr>\n",
       "    <tr>\n",
       "      <th>...</th>\n",
       "      <td>...</td>\n",
       "      <td>...</td>\n",
       "    </tr>\n",
       "    <tr>\n",
       "      <th>39784</th>\n",
       "      <td>None</td>\n",
       "      <td>0</td>\n",
       "    </tr>\n",
       "    <tr>\n",
       "      <th>39843</th>\n",
       "      <td>None</td>\n",
       "      <td>0</td>\n",
       "    </tr>\n",
       "    <tr>\n",
       "      <th>39884</th>\n",
       "      <td>None</td>\n",
       "      <td>0</td>\n",
       "    </tr>\n",
       "    <tr>\n",
       "      <th>39897</th>\n",
       "      <td>None</td>\n",
       "      <td>0</td>\n",
       "    </tr>\n",
       "    <tr>\n",
       "      <th>39978</th>\n",
       "      <td>None</td>\n",
       "      <td>0</td>\n",
       "    </tr>\n",
       "  </tbody>\n",
       "</table>\n",
       "<p>299 rows × 2 columns</p>\n",
       "</div>"
      ],
      "text/plain": [
       "      Reviews  Label\n",
       "233      None      0\n",
       "421      None      0\n",
       "702      None      0\n",
       "781      None      0\n",
       "989      None      0\n",
       "...       ...    ...\n",
       "39784    None      0\n",
       "39843    None      0\n",
       "39884    None      0\n",
       "39897    None      0\n",
       "39978    None      0\n",
       "\n",
       "[299 rows x 2 columns]"
      ]
     },
     "execution_count": 10,
     "metadata": {},
     "output_type": "execute_result"
    }
   ],
   "source": [
    "# Check if there are None rows\n",
    "none_rows = df[df['Reviews'] == 'None']\n",
    "none_rows"
   ]
  },
  {
   "cell_type": "code",
   "execution_count": 11,
   "metadata": {},
   "outputs": [
    {
     "data": {
      "text/html": [
       "<div>\n",
       "<style scoped>\n",
       "    .dataframe tbody tr th:only-of-type {\n",
       "        vertical-align: middle;\n",
       "    }\n",
       "\n",
       "    .dataframe tbody tr th {\n",
       "        vertical-align: top;\n",
       "    }\n",
       "\n",
       "    .dataframe thead th {\n",
       "        text-align: right;\n",
       "    }\n",
       "</style>\n",
       "<table border=\"1\" class=\"dataframe\">\n",
       "  <thead>\n",
       "    <tr style=\"text-align: right;\">\n",
       "      <th></th>\n",
       "      <th>Reviews</th>\n",
       "      <th>Label</th>\n",
       "    </tr>\n",
       "  </thead>\n",
       "  <tbody>\n",
       "  </tbody>\n",
       "</table>\n",
       "</div>"
      ],
      "text/plain": [
       "Empty DataFrame\n",
       "Columns: [Reviews, Label]\n",
       "Index: []"
      ]
     },
     "execution_count": 11,
     "metadata": {},
     "output_type": "execute_result"
    }
   ],
   "source": [
    "# Filter rows where 'review_text' is not 'None'\n",
    "df = df[df['Reviews'] != 'None']\n",
    "\n",
    "# Reset index after dropping rows\n",
    "df.reset_index(drop=True, inplace=True)\n",
    "\n",
    "# Check if there are None rows\n",
    "none_rows = df[df['Reviews'] == 'None']\n",
    "none_rows"
   ]
  },
  {
   "cell_type": "markdown",
   "metadata": {},
   "source": [
    "+ Check Duplicate Data"
   ]
  },
  {
   "cell_type": "code",
   "execution_count": 12,
   "metadata": {},
   "outputs": [
    {
     "data": {
      "text/plain": [
       "3151"
      ]
     },
     "execution_count": 12,
     "metadata": {},
     "output_type": "execute_result"
    }
   ],
   "source": [
    "df.duplicated().sum()"
   ]
  },
  {
   "cell_type": "code",
   "execution_count": 13,
   "metadata": {},
   "outputs": [
    {
     "data": {
      "text/plain": [
       "0"
      ]
     },
     "execution_count": 13,
     "metadata": {},
     "output_type": "execute_result"
    }
   ],
   "source": [
    "df = df.drop_duplicates()\n",
    "df.duplicated().sum()"
   ]
  },
  {
   "cell_type": "markdown",
   "metadata": {},
   "source": [
    "+ Check if it null"
   ]
  },
  {
   "cell_type": "code",
   "execution_count": 14,
   "metadata": {},
   "outputs": [
    {
     "data": {
      "text/plain": [
       "Reviews    0\n",
       "Label      0\n",
       "dtype: int64"
      ]
     },
     "execution_count": 14,
     "metadata": {},
     "output_type": "execute_result"
    }
   ],
   "source": [
    "df.isnull().sum()"
   ]
  },
  {
   "cell_type": "markdown",
   "metadata": {},
   "source": [
    "### 2.2 Text Preprocessing"
   ]
  },
  {
   "cell_type": "markdown",
   "metadata": {},
   "source": [
    "Define a function for text preprocessing and store the results in a new column called **'cleaned_review_text'**.\n",
    "\n",
    "1. **Remove extra spaces**:\n",
    "   - Using regular expressions, eliminate any redundant spaces within the text.\n",
    "\n",
    "2. **Convert text to lowercase**:\n",
    "   - Convert all characters in the text to lowercase to ensure uniformity.\n",
    "\n",
    "3. **Expand contractions**:\n",
    "   - Utilize the `contractions.fix()` function to expand contracted words in the text.\n",
    "\n",
    "4. **Replace repetitions of punctuation with a single punctuation**:\n",
    "   - Employ regular expressions to replace consecutive occurrences of punctuation with a single instance.\n",
    "\n",
    "5. **Remove punctuation (except '!') and numbers**:\n",
    "   - Use regular expressions to eliminate all punctuation marks and numerical digits from the text, with the exception of the exclamation mark '!'.\n",
    "\n",
    "6. **Remove emojis**:\n",
    "   - Utilize either regular expressions or a library to remove emojis from the text.\n",
    "\n",
    "7. **Tokenize text**:\n",
    "   - Segment the text into individual words or tokens using a tokenizer.\n",
    "\n",
    "8. **Remove stop words except 'no' and 'not'**:\n",
    "   - Exclude common stop words, which are words that typically do not carry significant meaning, from the text. However, retain the words 'no' and 'not' as they can alter the meaning of a sentence.\n",
    "\n",
    "9. **Lemmatization**:\n",
    "   - Apply lemmatization to reduce each word to its base or dictionary form, considering the context of the word in the sentence.\n",
    "\n",
    "10. **Join tokens back into text**:\n",
    "    - Reassemble the processed tokens into coherent text after preprocessing.\n",
    "\n"
   ]
  },
  {
   "cell_type": "code",
   "execution_count": 15,
   "metadata": {},
   "outputs": [],
   "source": [
    "def text_preprocessing(text):\n",
    "    # Remove extra spaces\n",
    "    text = re.sub(r'\\s+', ' ', text)\n",
    "\n",
    "    # Convert text to lowercase\n",
    "    text = text.lower()\n",
    "\n",
    "    # Expand contractions\n",
    "    text = contractions.fix(text)\n",
    "\n",
    "    # Replace repetitions of punctuation with a single punctuation mark\n",
    "    text = re.sub(r'(\\W)\\1+', r'\\1', text)\n",
    "\n",
    "    # Remove punctuation(except !) and numbers\n",
    "    text = re.sub(r'[^a-zA-Z!]+', ' ', text)\n",
    "\n",
    "    # Remove emojis\n",
    "    text = text.encode('ascii', 'ignore').decode('ascii')\n",
    "\n",
    "    # Tokenize text using SpaCy\n",
    "    doc = nlp(text)\n",
    "    tokens = [token.text for token in doc]\n",
    "\n",
    "    # Remove stop words except 'no' and 'not' - SpaCy has its own stop words list\n",
    "    tokens = [token for token in tokens if not nlp.vocab[token].is_stop or token in {'no', 'not'}]\n",
    "\n",
    "    # Lemmatization - SpaCy performs lemmatization automatically\n",
    "    tokens = [token.lemma_ for token in doc]\n",
    "\n",
    "    # Return Join tokens back into text\n",
    "    cleaned_text = ' '.join(tokens)\n",
    "\n",
    "    return cleaned_text\n",
    "\n"
   ]
  },
  {
   "cell_type": "markdown",
   "metadata": {},
   "source": [
    "+ Apply clean text to datafram"
   ]
  },
  {
   "cell_type": "code",
   "execution_count": 16,
   "metadata": {},
   "outputs": [
    {
     "data": {
      "text/html": [
       "<div>\n",
       "<style scoped>\n",
       "    .dataframe tbody tr th:only-of-type {\n",
       "        vertical-align: middle;\n",
       "    }\n",
       "\n",
       "    .dataframe tbody tr th {\n",
       "        vertical-align: top;\n",
       "    }\n",
       "\n",
       "    .dataframe thead th {\n",
       "        text-align: right;\n",
       "    }\n",
       "</style>\n",
       "<table border=\"1\" class=\"dataframe\">\n",
       "  <thead>\n",
       "    <tr style=\"text-align: right;\">\n",
       "      <th></th>\n",
       "      <th>Reviews</th>\n",
       "      <th>Label</th>\n",
       "      <th>cleaned_review_text</th>\n",
       "    </tr>\n",
       "  </thead>\n",
       "  <tbody>\n",
       "    <tr>\n",
       "      <th>0</th>\n",
       "      <td>8x optical zoom, Rotatable lens, Large LCD screen</td>\n",
       "      <td>1</td>\n",
       "      <td>x optical zoom rotatable lens large lcd screen</td>\n",
       "    </tr>\n",
       "    <tr>\n",
       "      <th>1</th>\n",
       "      <td>Versatility</td>\n",
       "      <td>1</td>\n",
       "      <td>versatility</td>\n",
       "    </tr>\n",
       "    <tr>\n",
       "      <th>2</th>\n",
       "      <td>Inexpensive, good quality print, ease of use</td>\n",
       "      <td>1</td>\n",
       "      <td>inexpensive good quality print ease of use</td>\n",
       "    </tr>\n",
       "    <tr>\n",
       "      <th>3</th>\n",
       "      <td>Easy to use, great navigation system, great co...</td>\n",
       "      <td>1</td>\n",
       "      <td>easy to use great navigation system great colo...</td>\n",
       "    </tr>\n",
       "    <tr>\n",
       "      <th>4</th>\n",
       "      <td>Incredible features. Incredible resolution. In...</td>\n",
       "      <td>1</td>\n",
       "      <td>incredible feature incredible resolution incre...</td>\n",
       "    </tr>\n",
       "    <tr>\n",
       "      <th>...</th>\n",
       "      <td>...</td>\n",
       "      <td>...</td>\n",
       "      <td>...</td>\n",
       "    </tr>\n",
       "    <tr>\n",
       "      <th>39696</th>\n",
       "      <td>paper jams in some printers-not mine-rare</td>\n",
       "      <td>0</td>\n",
       "      <td>paper jam in some printer not mine rare</td>\n",
       "    </tr>\n",
       "    <tr>\n",
       "      <th>39697</th>\n",
       "      <td>Easy to use and versatile.</td>\n",
       "      <td>1</td>\n",
       "      <td>easy to use and versatile</td>\n",
       "    </tr>\n",
       "    <tr>\n",
       "      <th>39698</th>\n",
       "      <td>Battery Life, Shutter Speed is temperamental a...</td>\n",
       "      <td>0</td>\n",
       "      <td>battery life shutter speed be temperamental an...</td>\n",
       "    </tr>\n",
       "    <tr>\n",
       "      <th>39699</th>\n",
       "      <td>BATTERY LIFE, reception</td>\n",
       "      <td>0</td>\n",
       "      <td>battery life reception</td>\n",
       "    </tr>\n",
       "    <tr>\n",
       "      <th>39700</th>\n",
       "      <td>Easy to use, fairly large storage, good featur...</td>\n",
       "      <td>1</td>\n",
       "      <td>easy to use fairly large storage good feature ...</td>\n",
       "    </tr>\n",
       "  </tbody>\n",
       "</table>\n",
       "<p>36550 rows × 3 columns</p>\n",
       "</div>"
      ],
      "text/plain": [
       "                                                 Reviews  Label  \\\n",
       "0      8x optical zoom, Rotatable lens, Large LCD screen      1   \n",
       "1                                            Versatility      1   \n",
       "2           Inexpensive, good quality print, ease of use      1   \n",
       "3      Easy to use, great navigation system, great co...      1   \n",
       "4      Incredible features. Incredible resolution. In...      1   \n",
       "...                                                  ...    ...   \n",
       "39696          paper jams in some printers-not mine-rare      0   \n",
       "39697                         Easy to use and versatile.      1   \n",
       "39698  Battery Life, Shutter Speed is temperamental a...      0   \n",
       "39699                            BATTERY LIFE, reception      0   \n",
       "39700  Easy to use, fairly large storage, good featur...      1   \n",
       "\n",
       "                                     cleaned_review_text  \n",
       "0         x optical zoom rotatable lens large lcd screen  \n",
       "1                                            versatility  \n",
       "2             inexpensive good quality print ease of use  \n",
       "3      easy to use great navigation system great colo...  \n",
       "4      incredible feature incredible resolution incre...  \n",
       "...                                                  ...  \n",
       "39696            paper jam in some printer not mine rare  \n",
       "39697                          easy to use and versatile  \n",
       "39698  battery life shutter speed be temperamental an...  \n",
       "39699                             battery life reception  \n",
       "39700  easy to use fairly large storage good feature ...  \n",
       "\n",
       "[36550 rows x 3 columns]"
      ]
     },
     "execution_count": 16,
     "metadata": {},
     "output_type": "execute_result"
    }
   ],
   "source": [
    "# Apply the function to the 'review_text' column and store the results in a new column 'cleaned_review_text'\n",
    "df['cleaned_review_text'] = df['Reviews'].apply(text_preprocessing)\n",
    "\n",
    "df"
   ]
  },
  {
   "cell_type": "markdown",
   "metadata": {},
   "source": [
    "### 2.3 Data Virtualization "
   ]
  },
  {
   "cell_type": "markdown",
   "metadata": {},
   "source": [
    "## 3. Feature Extraction from Text"
   ]
  },
  {
   "cell_type": "markdown",
   "metadata": {},
   "source": [
    "### 3.1 Count of Positive and Negative Words in Review Text\n",
    "This analysis provides a breakdown of the number of positive and negative words found in the review text. Positive and negative sentiments are quantified to gain insights into the overall tone of the reviews.\n"
   ]
  },
  {
   "cell_type": "code",
   "execution_count": 17,
   "metadata": {},
   "outputs": [],
   "source": [
    "def count_positive_words(text):\n",
    "\n",
    "    words = text.lower().split()\n",
    "    count = sum(1 for word in words if word in positive_words)\n",
    "    return count\n",
    "\n",
    "def count_negative_words(text):\n",
    "\n",
    "    words = text.lower().split()\n",
    "    count = sum(1 for word in words if word in negative_words)\n",
    "    return count"
   ]
  },
  {
   "cell_type": "markdown",
   "metadata": {},
   "source": [
    "+ Apply count_negative_words and count_positive_words"
   ]
  },
  {
   "cell_type": "code",
   "execution_count": 18,
   "metadata": {},
   "outputs": [],
   "source": [
    "# Apply function count_positive_words and count_negative_words to cleaned_review_text\n",
    "df['count_positive_words'] = df['cleaned_review_text'].apply(count_positive_words)\n",
    "df['count_negative_words'] = df['cleaned_review_text'].apply(count_negative_words)"
   ]
  },
  {
   "cell_type": "markdown",
   "metadata": {},
   "source": [
    "### 3.2 Check for Presence of 'no' or 'not' in Review Text\n",
    "This analysis examines whether the review text includes the words 'no' or 'not'. Identifying the presence of these words can be crucial for understanding negation in the sentiment expressed within the reviews.\n"
   ]
  },
  {
   "cell_type": "code",
   "execution_count": 19,
   "metadata": {},
   "outputs": [],
   "source": [
    "def contain_no(cleaned_review_text):\n",
    "    tokens = word_tokenize(cleaned_review_text)\n",
    "    contain_no = int('no' in tokens)\n",
    "    return contain_no\n",
    "\n",
    "def contain_not(cleaned_review_text):\n",
    "    tokens = word_tokenize(cleaned_review_text)\n",
    "    contain_not = int('not' in tokens)\n",
    "    return contain_not"
   ]
  },
  {
   "cell_type": "markdown",
   "metadata": {},
   "source": [
    "+ Apply function contains_no and contains_not to cleaned_review_text"
   ]
  },
  {
   "cell_type": "code",
   "execution_count": 20,
   "metadata": {},
   "outputs": [],
   "source": [
    "# Apply function contains_no and contains_not to cleaned_review_text\n",
    "df['contain_no'] = df['cleaned_review_text'].apply(contain_no)\n",
    "df['contain_not'] = df['cleaned_review_text'].apply(contain_not)"
   ]
  },
  {
   "cell_type": "code",
   "execution_count": 21,
   "metadata": {},
   "outputs": [
    {
     "data": {
      "text/html": [
       "<div>\n",
       "<style scoped>\n",
       "    .dataframe tbody tr th:only-of-type {\n",
       "        vertical-align: middle;\n",
       "    }\n",
       "\n",
       "    .dataframe tbody tr th {\n",
       "        vertical-align: top;\n",
       "    }\n",
       "\n",
       "    .dataframe thead th {\n",
       "        text-align: right;\n",
       "    }\n",
       "</style>\n",
       "<table border=\"1\" class=\"dataframe\">\n",
       "  <thead>\n",
       "    <tr style=\"text-align: right;\">\n",
       "      <th></th>\n",
       "      <th>Reviews</th>\n",
       "      <th>Label</th>\n",
       "      <th>cleaned_review_text</th>\n",
       "      <th>count_positive_words</th>\n",
       "      <th>count_negative_words</th>\n",
       "      <th>contain_no</th>\n",
       "      <th>contain_not</th>\n",
       "    </tr>\n",
       "  </thead>\n",
       "  <tbody>\n",
       "    <tr>\n",
       "      <th>0</th>\n",
       "      <td>8x optical zoom, Rotatable lens, Large LCD screen</td>\n",
       "      <td>1</td>\n",
       "      <td>x optical zoom rotatable lens large lcd screen</td>\n",
       "      <td>0</td>\n",
       "      <td>0</td>\n",
       "      <td>0</td>\n",
       "      <td>0</td>\n",
       "    </tr>\n",
       "    <tr>\n",
       "      <th>1</th>\n",
       "      <td>Versatility</td>\n",
       "      <td>1</td>\n",
       "      <td>versatility</td>\n",
       "      <td>1</td>\n",
       "      <td>0</td>\n",
       "      <td>0</td>\n",
       "      <td>0</td>\n",
       "    </tr>\n",
       "    <tr>\n",
       "      <th>2</th>\n",
       "      <td>Inexpensive, good quality print, ease of use</td>\n",
       "      <td>1</td>\n",
       "      <td>inexpensive good quality print ease of use</td>\n",
       "      <td>3</td>\n",
       "      <td>0</td>\n",
       "      <td>0</td>\n",
       "      <td>0</td>\n",
       "    </tr>\n",
       "    <tr>\n",
       "      <th>3</th>\n",
       "      <td>Easy to use, great navigation system, great co...</td>\n",
       "      <td>1</td>\n",
       "      <td>easy to use great navigation system great colo...</td>\n",
       "      <td>5</td>\n",
       "      <td>0</td>\n",
       "      <td>0</td>\n",
       "      <td>0</td>\n",
       "    </tr>\n",
       "    <tr>\n",
       "      <th>4</th>\n",
       "      <td>Incredible features. Incredible resolution. In...</td>\n",
       "      <td>1</td>\n",
       "      <td>incredible feature incredible resolution incre...</td>\n",
       "      <td>4</td>\n",
       "      <td>0</td>\n",
       "      <td>0</td>\n",
       "      <td>0</td>\n",
       "    </tr>\n",
       "    <tr>\n",
       "      <th>5</th>\n",
       "      <td>uphill learning curve, for an old SLR guy</td>\n",
       "      <td>0</td>\n",
       "      <td>uphill learn curve for an old slr guy</td>\n",
       "      <td>0</td>\n",
       "      <td>0</td>\n",
       "      <td>0</td>\n",
       "      <td>0</td>\n",
       "    </tr>\n",
       "    <tr>\n",
       "      <th>6</th>\n",
       "      <td>Sleek design, accessories, mail-in rebate</td>\n",
       "      <td>1</td>\n",
       "      <td>sleek design accessory mail in rebate</td>\n",
       "      <td>1</td>\n",
       "      <td>0</td>\n",
       "      <td>0</td>\n",
       "      <td>0</td>\n",
       "    </tr>\n",
       "    <tr>\n",
       "      <th>7</th>\n",
       "      <td>Size, style, features</td>\n",
       "      <td>1</td>\n",
       "      <td>size style feature</td>\n",
       "      <td>0</td>\n",
       "      <td>0</td>\n",
       "      <td>0</td>\n",
       "      <td>0</td>\n",
       "    </tr>\n",
       "    <tr>\n",
       "      <th>8</th>\n",
       "      <td>small, great pictures, manual controls</td>\n",
       "      <td>1</td>\n",
       "      <td>small great picture manual control</td>\n",
       "      <td>1</td>\n",
       "      <td>0</td>\n",
       "      <td>0</td>\n",
       "      <td>0</td>\n",
       "    </tr>\n",
       "    <tr>\n",
       "      <th>9</th>\n",
       "      <td>Slow w/ full page color printing, expensive ca...</td>\n",
       "      <td>0</td>\n",
       "      <td>slow w full page color print expensive cartridge</td>\n",
       "      <td>0</td>\n",
       "      <td>2</td>\n",
       "      <td>0</td>\n",
       "      <td>0</td>\n",
       "    </tr>\n",
       "  </tbody>\n",
       "</table>\n",
       "</div>"
      ],
      "text/plain": [
       "                                             Reviews  Label  \\\n",
       "0  8x optical zoom, Rotatable lens, Large LCD screen      1   \n",
       "1                                        Versatility      1   \n",
       "2       Inexpensive, good quality print, ease of use      1   \n",
       "3  Easy to use, great navigation system, great co...      1   \n",
       "4  Incredible features. Incredible resolution. In...      1   \n",
       "5          uphill learning curve, for an old SLR guy      0   \n",
       "6          Sleek design, accessories, mail-in rebate      1   \n",
       "7                              Size, style, features      1   \n",
       "8             small, great pictures, manual controls      1   \n",
       "9  Slow w/ full page color printing, expensive ca...      0   \n",
       "\n",
       "                                 cleaned_review_text  count_positive_words  \\\n",
       "0     x optical zoom rotatable lens large lcd screen                     0   \n",
       "1                                        versatility                     1   \n",
       "2         inexpensive good quality print ease of use                     3   \n",
       "3  easy to use great navigation system great colo...                     5   \n",
       "4  incredible feature incredible resolution incre...                     4   \n",
       "5              uphill learn curve for an old slr guy                     0   \n",
       "6              sleek design accessory mail in rebate                     1   \n",
       "7                                 size style feature                     0   \n",
       "8                 small great picture manual control                     1   \n",
       "9   slow w full page color print expensive cartridge                     0   \n",
       "\n",
       "   count_negative_words  contain_no  contain_not  \n",
       "0                     0           0            0  \n",
       "1                     0           0            0  \n",
       "2                     0           0            0  \n",
       "3                     0           0            0  \n",
       "4                     0           0            0  \n",
       "5                     0           0            0  \n",
       "6                     0           0            0  \n",
       "7                     0           0            0  \n",
       "8                     0           0            0  \n",
       "9                     2           0            0  "
      ]
     },
     "execution_count": 21,
     "metadata": {},
     "output_type": "execute_result"
    }
   ],
   "source": [
    "df.head(10)"
   ]
  },
  {
   "cell_type": "markdown",
   "metadata": {},
   "source": [
    "### 3.3 Check for Presence of '!' in Review Text\n",
    "This analysis looks for the presence of the exclamation mark '!' within the review text. The presence of '!' can indicate emphasis or heightened emotion in the expressed sentiments.\n"
   ]
  },
  {
   "cell_type": "code",
   "execution_count": 22,
   "metadata": {},
   "outputs": [],
   "source": [
    "def contain_exclamation(cleaned_review_text):\n",
    "    tokens = word_tokenize(cleaned_review_text)\n",
    "    contain_exclamation = int('!' in tokens)\n",
    "    return contain_exclamation"
   ]
  },
  {
   "cell_type": "markdown",
   "metadata": {},
   "source": [
    "+ Apply function contain_exclamation to cleaned_review_text"
   ]
  },
  {
   "cell_type": "code",
   "execution_count": 23,
   "metadata": {},
   "outputs": [],
   "source": [
    "# Apply function contain_exclamation to cleaned_review_text\n",
    "df['contain_exclamation'] = df['cleaned_review_text'].apply(contain_exclamation)"
   ]
  },
  {
   "cell_type": "code",
   "execution_count": 24,
   "metadata": {},
   "outputs": [
    {
     "data": {
      "text/html": [
       "<div>\n",
       "<style scoped>\n",
       "    .dataframe tbody tr th:only-of-type {\n",
       "        vertical-align: middle;\n",
       "    }\n",
       "\n",
       "    .dataframe tbody tr th {\n",
       "        vertical-align: top;\n",
       "    }\n",
       "\n",
       "    .dataframe thead th {\n",
       "        text-align: right;\n",
       "    }\n",
       "</style>\n",
       "<table border=\"1\" class=\"dataframe\">\n",
       "  <thead>\n",
       "    <tr style=\"text-align: right;\">\n",
       "      <th></th>\n",
       "      <th>Reviews</th>\n",
       "      <th>Label</th>\n",
       "      <th>cleaned_review_text</th>\n",
       "      <th>count_positive_words</th>\n",
       "      <th>count_negative_words</th>\n",
       "      <th>contain_no</th>\n",
       "      <th>contain_not</th>\n",
       "      <th>contain_exclamation</th>\n",
       "    </tr>\n",
       "  </thead>\n",
       "  <tbody>\n",
       "    <tr>\n",
       "      <th>0</th>\n",
       "      <td>8x optical zoom, Rotatable lens, Large LCD screen</td>\n",
       "      <td>1</td>\n",
       "      <td>x optical zoom rotatable lens large lcd screen</td>\n",
       "      <td>0</td>\n",
       "      <td>0</td>\n",
       "      <td>0</td>\n",
       "      <td>0</td>\n",
       "      <td>0</td>\n",
       "    </tr>\n",
       "    <tr>\n",
       "      <th>1</th>\n",
       "      <td>Versatility</td>\n",
       "      <td>1</td>\n",
       "      <td>versatility</td>\n",
       "      <td>1</td>\n",
       "      <td>0</td>\n",
       "      <td>0</td>\n",
       "      <td>0</td>\n",
       "      <td>0</td>\n",
       "    </tr>\n",
       "    <tr>\n",
       "      <th>2</th>\n",
       "      <td>Inexpensive, good quality print, ease of use</td>\n",
       "      <td>1</td>\n",
       "      <td>inexpensive good quality print ease of use</td>\n",
       "      <td>3</td>\n",
       "      <td>0</td>\n",
       "      <td>0</td>\n",
       "      <td>0</td>\n",
       "      <td>0</td>\n",
       "    </tr>\n",
       "    <tr>\n",
       "      <th>3</th>\n",
       "      <td>Easy to use, great navigation system, great co...</td>\n",
       "      <td>1</td>\n",
       "      <td>easy to use great navigation system great colo...</td>\n",
       "      <td>5</td>\n",
       "      <td>0</td>\n",
       "      <td>0</td>\n",
       "      <td>0</td>\n",
       "      <td>0</td>\n",
       "    </tr>\n",
       "    <tr>\n",
       "      <th>4</th>\n",
       "      <td>Incredible features. Incredible resolution. In...</td>\n",
       "      <td>1</td>\n",
       "      <td>incredible feature incredible resolution incre...</td>\n",
       "      <td>4</td>\n",
       "      <td>0</td>\n",
       "      <td>0</td>\n",
       "      <td>0</td>\n",
       "      <td>0</td>\n",
       "    </tr>\n",
       "    <tr>\n",
       "      <th>5</th>\n",
       "      <td>uphill learning curve, for an old SLR guy</td>\n",
       "      <td>0</td>\n",
       "      <td>uphill learn curve for an old slr guy</td>\n",
       "      <td>0</td>\n",
       "      <td>0</td>\n",
       "      <td>0</td>\n",
       "      <td>0</td>\n",
       "      <td>0</td>\n",
       "    </tr>\n",
       "    <tr>\n",
       "      <th>6</th>\n",
       "      <td>Sleek design, accessories, mail-in rebate</td>\n",
       "      <td>1</td>\n",
       "      <td>sleek design accessory mail in rebate</td>\n",
       "      <td>1</td>\n",
       "      <td>0</td>\n",
       "      <td>0</td>\n",
       "      <td>0</td>\n",
       "      <td>0</td>\n",
       "    </tr>\n",
       "    <tr>\n",
       "      <th>7</th>\n",
       "      <td>Size, style, features</td>\n",
       "      <td>1</td>\n",
       "      <td>size style feature</td>\n",
       "      <td>0</td>\n",
       "      <td>0</td>\n",
       "      <td>0</td>\n",
       "      <td>0</td>\n",
       "      <td>0</td>\n",
       "    </tr>\n",
       "    <tr>\n",
       "      <th>8</th>\n",
       "      <td>small, great pictures, manual controls</td>\n",
       "      <td>1</td>\n",
       "      <td>small great picture manual control</td>\n",
       "      <td>1</td>\n",
       "      <td>0</td>\n",
       "      <td>0</td>\n",
       "      <td>0</td>\n",
       "      <td>0</td>\n",
       "    </tr>\n",
       "    <tr>\n",
       "      <th>9</th>\n",
       "      <td>Slow w/ full page color printing, expensive ca...</td>\n",
       "      <td>0</td>\n",
       "      <td>slow w full page color print expensive cartridge</td>\n",
       "      <td>0</td>\n",
       "      <td>2</td>\n",
       "      <td>0</td>\n",
       "      <td>0</td>\n",
       "      <td>0</td>\n",
       "    </tr>\n",
       "  </tbody>\n",
       "</table>\n",
       "</div>"
      ],
      "text/plain": [
       "                                             Reviews  Label  \\\n",
       "0  8x optical zoom, Rotatable lens, Large LCD screen      1   \n",
       "1                                        Versatility      1   \n",
       "2       Inexpensive, good quality print, ease of use      1   \n",
       "3  Easy to use, great navigation system, great co...      1   \n",
       "4  Incredible features. Incredible resolution. In...      1   \n",
       "5          uphill learning curve, for an old SLR guy      0   \n",
       "6          Sleek design, accessories, mail-in rebate      1   \n",
       "7                              Size, style, features      1   \n",
       "8             small, great pictures, manual controls      1   \n",
       "9  Slow w/ full page color printing, expensive ca...      0   \n",
       "\n",
       "                                 cleaned_review_text  count_positive_words  \\\n",
       "0     x optical zoom rotatable lens large lcd screen                     0   \n",
       "1                                        versatility                     1   \n",
       "2         inexpensive good quality print ease of use                     3   \n",
       "3  easy to use great navigation system great colo...                     5   \n",
       "4  incredible feature incredible resolution incre...                     4   \n",
       "5              uphill learn curve for an old slr guy                     0   \n",
       "6              sleek design accessory mail in rebate                     1   \n",
       "7                                 size style feature                     0   \n",
       "8                 small great picture manual control                     1   \n",
       "9   slow w full page color print expensive cartridge                     0   \n",
       "\n",
       "   count_negative_words  contain_no  contain_not  contain_exclamation  \n",
       "0                     0           0            0                    0  \n",
       "1                     0           0            0                    0  \n",
       "2                     0           0            0                    0  \n",
       "3                     0           0            0                    0  \n",
       "4                     0           0            0                    0  \n",
       "5                     0           0            0                    0  \n",
       "6                     0           0            0                    0  \n",
       "7                     0           0            0                    0  \n",
       "8                     0           0            0                    0  \n",
       "9                     2           0            0                    0  "
      ]
     },
     "execution_count": 24,
     "metadata": {},
     "output_type": "execute_result"
    }
   ],
   "source": [
    "df.head(10)"
   ]
  },
  {
   "cell_type": "markdown",
   "metadata": {},
   "source": [
    "### 3.4 Log of Review Text Length\n",
    "This analysis calculates the logarithm of the length of the review text. Taking the logarithm of the length can help normalize the data and highlight differences in text length more effectively.\n"
   ]
  },
  {
   "cell_type": "code",
   "execution_count": 25,
   "metadata": {},
   "outputs": [],
   "source": [
    "def log_review_length(review_text):\n",
    "    review_length = len(review_text)\n",
    "    if review_length == 0:\n",
    "        return 0  # Return 0 if the review length is 0\n",
    "    log_length = math.log(review_length)\n",
    "    return log_length"
   ]
  },
  {
   "cell_type": "markdown",
   "metadata": {},
   "source": [
    "+ Apply function log_review_length to cleaned_review_text"
   ]
  },
  {
   "cell_type": "code",
   "execution_count": 26,
   "metadata": {},
   "outputs": [],
   "source": [
    "# Apply function log_review_length to cleaned_review_text\n",
    "df['log_review_length'] = df['cleaned_review_text'].apply(log_review_length)"
   ]
  },
  {
   "cell_type": "markdown",
   "metadata": {},
   "source": [
    "### 3.5 Count of Words with POS Tags (Pronouns, Adjectives)\n",
    "This analysis counts the number of words in the review text that are tagged as Pronouns and Adjectives. Pronouns and adjectives play a significant role in conveying sentiment and describing characteristics, making their frequency useful for sentiment analysis.\n"
   ]
  },
  {
   "cell_type": "code",
   "execution_count": 27,
   "metadata": {},
   "outputs": [],
   "source": [
    "def count_pos_words(review_text, pos_tag):\n",
    "    doc = nlp(review_text)\n",
    "    count = sum(1 for token in doc if token.pos_ == pos_tag)\n",
    "    return count"
   ]
  },
  {
   "cell_type": "markdown",
   "metadata": {},
   "source": [
    "+ Apply function count_pos_words to cleaned_review_text"
   ]
  },
  {
   "cell_type": "code",
   "execution_count": 28,
   "metadata": {},
   "outputs": [],
   "source": [
    "df['pronoun_count'] = df['cleaned_review_text'].apply(lambda x: count_pos_words(x, 'PRON'))\n",
    "df['adjective_count'] = df['cleaned_review_text'].apply(lambda x: count_pos_words(x, 'ADJ'))\n",
    "df['adverb_count'] = df['cleaned_review_text'].apply(lambda x: count_pos_words(x, 'ADV'))"
   ]
  },
  {
   "cell_type": "markdown",
   "metadata": {},
   "source": [
    "### 3.6 Emotion Label Based on Review Text\n",
    "This analysis assigns an emotion label to each review text based on the predominant emotion expressed. Emotions such as joy, sadness, anger, surprise, and others may be identified using sentiment analysis techniques, helping to categorize the overall emotional tone of the reviews.\n"
   ]
  },
  {
   "cell_type": "code",
   "execution_count": 29,
   "metadata": {},
   "outputs": [],
   "source": [
    "def get_emotion_label(phrase):\n",
    "    # Tokenize the phrase\n",
    "    tokens = word_tokenize(phrase)\n",
    "\n",
    "    # Define emotion word list\n",
    "    emotion_words = []\n",
    "\n",
    "    for i in range(len(tokens)):\n",
    "      # Call NRCLex constructor\n",
    "      emotion = NRCLex(tokens[i])\n",
    "      # Get affect_dict\n",
    "      affect_dict = emotion.affect_dict\n",
    "      # Extract emotion words from affect_dict values\n",
    "      for sublist in affect_dict.values():\n",
    "        emotion_words.extend(sublist)\n",
    "\n",
    "    # Define positive and negative emotion groups\n",
    "    positive_emotions = ['anticipation', 'trust', 'positive', 'joy', 'surprise']\n",
    "    negative_emotions = ['fear', 'anger', 'negative', 'sadness', 'disgust']\n",
    "\n",
    "    # Count occurrences of positive and negative words\n",
    "    positive_count = sum(emotion_words.count(emotion) for emotion in positive_emotions)\n",
    "    negative_count = sum(emotion_words.count(emotion) for emotion in negative_emotions)\n",
    "\n",
    "    # Determine sentiment label based on counts\n",
    "    if positive_count > negative_count:\n",
    "        return 1\n",
    "    elif positive_count < negative_count:\n",
    "        return 0\n",
    "    else:\n",
    "        return 2\n",
    "\n",
    "# # Sample usage\n",
    "# phrase = \"This movie is great and wonderful, but it made me sad.\"\n",
    "# emotion_label = get_emotion_label(phrase)\n",
    "# print(\"Emotion label:\", emotion_label)"
   ]
  },
  {
   "cell_type": "markdown",
   "metadata": {},
   "source": [
    "+ Apply function get_emotion_label to cleaned_review_text"
   ]
  },
  {
   "cell_type": "code",
   "execution_count": 30,
   "metadata": {},
   "outputs": [],
   "source": [
    "# Apply function get_emotion_label to cleaned_review_text\n",
    "df['emotion_label'] = df['cleaned_review_text'].apply(get_emotion_label)"
   ]
  },
  {
   "cell_type": "markdown",
   "metadata": {},
   "source": [
    "### 3.7 Sentiment Score Calculation\n",
    "This analysis computes the sentiment score for each review text. The sentiment score quantifies the overall sentiment expressed in the review, typically ranging from negative to positive values.\n"
   ]
  },
  {
   "cell_type": "code",
   "execution_count": 31,
   "metadata": {},
   "outputs": [],
   "source": [
    "def calculate_sentiment_score(phrase):\n",
    "    # Create a TextBlob object\n",
    "    blob = TextBlob(phrase)\n",
    "\n",
    "    # Get the sentiment score\n",
    "    sentiment_score = blob.sentiment.polarity\n",
    "\n",
    "    return sentiment_score\n",
    "\n",
    "# Sample usage\n",
    "# phrase = \"This movie is great and wonderful, but it made me sad.\"\n",
    "# sentiment_score = calculate_sentiment_score(phrase)\n",
    "# print(\"Sentiment score:\", sentiment_score)"
   ]
  },
  {
   "cell_type": "markdown",
   "metadata": {},
   "source": [
    "+ Apply function calculate_sentiment_score to cleaned_review_text"
   ]
  },
  {
   "cell_type": "code",
   "execution_count": 32,
   "metadata": {},
   "outputs": [],
   "source": [
    "# Apply function calculate_sentiment_score to cleaned_review_text\n",
    "df['sentiment_score'] = df['cleaned_review_text'].apply(calculate_sentiment_score)"
   ]
  },
  {
   "cell_type": "markdown",
   "metadata": {},
   "source": [
    "## 4. Classification Model Building\n"
   ]
  },
  {
   "cell_type": "markdown",
   "metadata": {},
   "source": [
    "### 4.1 Train-Test Split for Model Evaluation"
   ]
  },
  {
   "cell_type": "code",
   "execution_count": 33,
   "metadata": {},
   "outputs": [],
   "source": [
    "X = df.drop('Label', axis=1)"
   ]
  },
  {
   "cell_type": "code",
   "execution_count": 34,
   "metadata": {},
   "outputs": [],
   "source": [
    "# Split the data into training and testing sets\n",
    "X_train, X_test, y_train, y_test = train_test_split( X , df['Label'], test_size=0.2, random_state=42, stratify= df['Label'])"
   ]
  },
  {
   "cell_type": "markdown",
   "metadata": {},
   "source": [
    "### 4.2  Using CountVectorizer"
   ]
  },
  {
   "cell_type": "code",
   "execution_count": 35,
   "metadata": {},
   "outputs": [],
   "source": [
    "from sklearn.feature_extraction.text import CountVectorizer"
   ]
  },
  {
   "cell_type": "code",
   "execution_count": 36,
   "metadata": {},
   "outputs": [],
   "source": [
    "vectorizer = CountVectorizer()"
   ]
  },
  {
   "cell_type": "markdown",
   "metadata": {},
   "source": [
    "+ Apply for X_test and X_train"
   ]
  },
  {
   "cell_type": "code",
   "execution_count": 37,
   "metadata": {},
   "outputs": [],
   "source": [
    "X_train_count_vect = vectorizer.fit_transform(X_train['Reviews'])\n",
    "X_test_count_vect = vectorizer.transform(X_test['Reviews'])"
   ]
  },
  {
   "cell_type": "markdown",
   "metadata": {},
   "source": [
    "+ Get additional features"
   ]
  },
  {
   "cell_type": "code",
   "execution_count": 38,
   "metadata": {},
   "outputs": [],
   "source": [
    "# Get additional features\n",
    "additional_features_train = X_train.drop('Reviews',axis=1)\n",
    "additional_features_test = X_test.drop('Reviews',axis=1)"
   ]
  },
  {
   "cell_type": "code",
   "execution_count": 39,
   "metadata": {},
   "outputs": [],
   "source": [
    "X_train_with_co_vec= pd.concat([pd.DataFrame(X_train_count_vect.toarray(), columns=vectorizer.get_feature_names_out()), additional_features_train], axis=1)\n",
    "X_test_with_co_vec= pd.concat([pd.DataFrame(X_test_count_vect.toarray(), columns=vectorizer.get_feature_names_out()), additional_features_test], axis=1)"
   ]
  },
  {
   "cell_type": "markdown",
   "metadata": {},
   "source": [
    "### 4.2  Using TF-IDF"
   ]
  },
  {
   "cell_type": "code",
   "execution_count": 40,
   "metadata": {},
   "outputs": [],
   "source": [
    "from sklearn.feature_extraction.text import TfidfVectorizer"
   ]
  },
  {
   "cell_type": "code",
   "execution_count": 41,
   "metadata": {},
   "outputs": [],
   "source": [
    "tf_idf_vectorizer = TfidfVectorizer()"
   ]
  },
  {
   "cell_type": "markdown",
   "metadata": {},
   "source": [
    "+ Apply for X_test and X_train"
   ]
  },
  {
   "cell_type": "code",
   "execution_count": 42,
   "metadata": {},
   "outputs": [],
   "source": [
    "X_train_tf_idf_vect= tf_idf_vectorizer.fit_transform(X_train['Reviews'])\n",
    "X_test_tf_idf_vect = tf_idf_vectorizer.transform(X_test['Reviews'])"
   ]
  },
  {
   "cell_type": "code",
   "execution_count": 43,
   "metadata": {},
   "outputs": [],
   "source": [
    "X_train_with_tfidf_vec= pd.concat([pd.DataFrame(X_train_tf_idf_vect.toarray(), columns=vectorizer.get_feature_names_out()), additional_features_train], axis=1)\n",
    "X_test_with_tfidf_vec= pd.concat([pd.DataFrame(X_test_tf_idf_vect.toarray(), columns=vectorizer.get_feature_names_out()), additional_features_test], axis=1)"
   ]
  },
  {
   "cell_type": "markdown",
   "metadata": {},
   "source": [
    "### 4.3 Model Training: Multinomial Naive Bayes Classifier ( MultinomialNB )"
   ]
  },
  {
   "cell_type": "markdown",
   "metadata": {},
   "source": [
    "#### 4.3.1 Using with Countvector"
   ]
  },
  {
   "cell_type": "code",
   "execution_count": 44,
   "metadata": {},
   "outputs": [],
   "source": [
    "from sklearn.naive_bayes import MultinomialNB\n",
    "\n",
    "nb_countvec = MultinomialNB()"
   ]
  },
  {
   "cell_type": "code",
   "execution_count": 45,
   "metadata": {},
   "outputs": [],
   "source": [
    "nb_countvec.fit(X_train_with_co_vec,y_train)"
   ]
  },
  {
   "cell_type": "markdown",
   "metadata": {},
   "source": [
    "#### 4.3.2 Using with TF-IDF"
   ]
  },
  {
   "cell_type": "code",
   "execution_count": null,
   "metadata": {},
   "outputs": [],
   "source": [
    "nb_tfidf = MultinomialNB()\n",
    "\n",
    "nb_tfidf.fit(X_train_tf_idf_vect,y_train)"
   ]
  },
  {
   "cell_type": "markdown",
   "metadata": {},
   "source": [
    "### 4.4 Model Training: Logistic Regression"
   ]
  },
  {
   "cell_type": "markdown",
   "metadata": {},
   "source": [
    "#### 4.4.1 Using with Countvector"
   ]
  },
  {
   "cell_type": "code",
   "execution_count": null,
   "metadata": {},
   "outputs": [],
   "source": [
    "from sklearn.linear_model import LogisticRegression\n",
    "\n",
    "lr_countvec = LogisticRegression()"
   ]
  },
  {
   "cell_type": "code",
   "execution_count": null,
   "metadata": {},
   "outputs": [
    {
     "ename": "NameError",
     "evalue": "name 'X_train_with_co_vec' is not defined",
     "output_type": "error",
     "traceback": [
      "\u001b[1;31m---------------------------------------------------------------------------\u001b[0m\n",
      "\u001b[1;31mNameError\u001b[0m                                 Traceback (most recent call last)\n",
      "Cell \u001b[1;32mIn[2], line 1\u001b[0m\n",
      "\u001b[1;32m----> 1\u001b[0m nb_countvec\u001b[38;5;241m.\u001b[39mfit(\u001b[43mX_train_with_co_vec\u001b[49m,y_train)\n",
      "\n",
      "\u001b[1;31mNameError\u001b[0m: name 'X_train_with_co_vec' is not defined"
     ]
    }
   ],
   "source": [
    "lr_countvec.fit(X_train_with_co_vec,y_train)"
   ]
  },
  {
   "cell_type": "markdown",
   "metadata": {},
   "source": [
    "#### 4.4.2 Using with TF-IDF"
   ]
  },
  {
   "cell_type": "code",
   "execution_count": null,
   "metadata": {},
   "outputs": [],
   "source": [
    "lr_tfidf  = LogisticRegression()\n",
    "\n",
    "lr_tfidf.fit(X_train_tf_idf_vect,y_train)"
   ]
  },
  {
   "cell_type": "markdown",
   "metadata": {},
   "source": [
    "### 4.5 Model Training: Random Forest "
   ]
  },
  {
   "cell_type": "markdown",
   "metadata": {},
   "source": [
    "#### 4.5.1 Using with Countvector"
   ]
  },
  {
   "cell_type": "code",
   "execution_count": null,
   "metadata": {},
   "outputs": [],
   "source": [
    "from sklearn.ensemble import RandomForestClassifier\n",
    "\n",
    "lr_countvec = RandomForestClassifier()"
   ]
  },
  {
   "cell_type": "code",
   "execution_count": null,
   "metadata": {},
   "outputs": [
    {
     "ename": "NameError",
     "evalue": "name 'X_train_with_co_vec' is not defined",
     "output_type": "error",
     "traceback": [
      "\u001b[1;31m---------------------------------------------------------------------------\u001b[0m\n",
      "\u001b[1;31mNameError\u001b[0m                                 Traceback (most recent call last)\n",
      "Cell \u001b[1;32mIn[2], line 1\u001b[0m\n",
      "\u001b[1;32m----> 1\u001b[0m nb_countvec\u001b[38;5;241m.\u001b[39mfit(\u001b[43mX_train_with_co_vec\u001b[49m,y_train)\n",
      "\n",
      "\u001b[1;31mNameError\u001b[0m: name 'X_train_with_co_vec' is not defined"
     ]
    }
   ],
   "source": [
    "lr_countvec.fit(X_train_with_co_vec,y_train)"
   ]
  },
  {
   "cell_type": "markdown",
   "metadata": {},
   "source": [
    "#### 4.5.2 Using with TF-IDF"
   ]
  },
  {
   "cell_type": "code",
   "execution_count": null,
   "metadata": {},
   "outputs": [],
   "source": [
    "lr_tf_idf  = LogisticRegression()\n",
    "\n",
    "lr_tf_idf.fit(X_train_tf_idf_vect,y_train)"
   ]
  },
  {
   "cell_type": "markdown",
   "metadata": {},
   "source": [
    "### 4.6 Model Training: xgboost classifier "
   ]
  },
  {
   "cell_type": "markdown",
   "metadata": {},
   "source": [
    "#### 4.6.1 Using with Countvector"
   ]
  },
  {
   "cell_type": "code",
   "execution_count": null,
   "metadata": {},
   "outputs": [],
   "source": [
    "from sklearn.linear_model import LogisticRegression\n",
    "\n",
    "lr_countvec = LogisticRegression()"
   ]
  },
  {
   "cell_type": "code",
   "execution_count": null,
   "metadata": {},
   "outputs": [
    {
     "ename": "NameError",
     "evalue": "name 'X_train_with_co_vec' is not defined",
     "output_type": "error",
     "traceback": [
      "\u001b[1;31m---------------------------------------------------------------------------\u001b[0m\n",
      "\u001b[1;31mNameError\u001b[0m                                 Traceback (most recent call last)\n",
      "Cell \u001b[1;32mIn[2], line 1\u001b[0m\n",
      "\u001b[1;32m----> 1\u001b[0m nb_countvec\u001b[38;5;241m.\u001b[39mfit(\u001b[43mX_train_with_co_vec\u001b[49m,y_train)\n",
      "\n",
      "\u001b[1;31mNameError\u001b[0m: name 'X_train_with_co_vec' is not defined"
     ]
    }
   ],
   "source": [
    "lr_countvec.fit(X_train_with_co_vec,y_train)"
   ]
  },
  {
   "cell_type": "markdown",
   "metadata": {},
   "source": [
    "#### 4.6.2 Using with TF-IDF"
   ]
  },
  {
   "cell_type": "code",
   "execution_count": null,
   "metadata": {},
   "outputs": [],
   "source": [
    "lr_tf_idf  = LogisticRegression()\n",
    "\n",
    "lr_tf_idf.fit(X_train_tf_idf_vect,y_train)"
   ]
  },
  {
   "cell_type": "markdown",
   "metadata": {},
   "source": [
    "### 4.7 Model Training: Support Vector Machine (SVM) "
   ]
  },
  {
   "cell_type": "markdown",
   "metadata": {},
   "source": [
    "#### 4.7.1 Using with Countvector"
   ]
  },
  {
   "cell_type": "code",
   "execution_count": null,
   "metadata": {},
   "outputs": [],
   "source": [
    "from sklearn.linear_model import LogisticRegression\n",
    "\n",
    "lr_countvec = LogisticRegression()"
   ]
  },
  {
   "cell_type": "code",
   "execution_count": null,
   "metadata": {},
   "outputs": [
    {
     "ename": "NameError",
     "evalue": "name 'X_train_with_co_vec' is not defined",
     "output_type": "error",
     "traceback": [
      "\u001b[1;31m---------------------------------------------------------------------------\u001b[0m\n",
      "\u001b[1;31mNameError\u001b[0m                                 Traceback (most recent call last)\n",
      "Cell \u001b[1;32mIn[2], line 1\u001b[0m\n",
      "\u001b[1;32m----> 1\u001b[0m nb_countvec\u001b[38;5;241m.\u001b[39mfit(\u001b[43mX_train_with_co_vec\u001b[49m,y_train)\n",
      "\n",
      "\u001b[1;31mNameError\u001b[0m: name 'X_train_with_co_vec' is not defined"
     ]
    }
   ],
   "source": [
    "lr_countvec.fit(X_train_with_co_vec,y_train)"
   ]
  },
  {
   "cell_type": "markdown",
   "metadata": {},
   "source": [
    "#### 4.7.2 Using with TF-IDF"
   ]
  },
  {
   "cell_type": "code",
   "execution_count": null,
   "metadata": {},
   "outputs": [],
   "source": [
    "lr_tf_idf  = LogisticRegression()\n",
    "\n",
    "lr_tf_idf.fit(X_train_tf_idf_vect,y_train)"
   ]
  },
  {
   "cell_type": "markdown",
   "metadata": {},
   "source": [
    "### 4.8 Model Training: Multi-layer Perceptron classifier (MLPClassifier)"
   ]
  },
  {
   "cell_type": "markdown",
   "metadata": {},
   "source": [
    "#### 4.8.1 Using with Countvector"
   ]
  },
  {
   "cell_type": "code",
   "execution_count": null,
   "metadata": {},
   "outputs": [],
   "source": [
    "# Initialize MLPClassifier\n",
    "mlp_classifier_countvec = MLPClassifier(hidden_layer_sizes=(100,), max_iter=300, random_state=42)\n"
   ]
  },
  {
   "cell_type": "code",
   "execution_count": null,
   "metadata": {},
   "outputs": [
    {
     "ename": "NameError",
     "evalue": "name 'X_train_with_co_vec' is not defined",
     "output_type": "error",
     "traceback": [
      "\u001b[1;31m---------------------------------------------------------------------------\u001b[0m\n",
      "\u001b[1;31mNameError\u001b[0m                                 Traceback (most recent call last)\n",
      "Cell \u001b[1;32mIn[2], line 1\u001b[0m\n",
      "\u001b[1;32m----> 1\u001b[0m nb_countvec\u001b[38;5;241m.\u001b[39mfit(\u001b[43mX_train_with_co_vec\u001b[49m,y_train)\n",
      "\n",
      "\u001b[1;31mNameError\u001b[0m: name 'X_train_with_co_vec' is not defined"
     ]
    }
   ],
   "source": [
    "mlp_classifier_countvec.fit(X_train_with_co_vec,y_train)"
   ]
  },
  {
   "cell_type": "markdown",
   "metadata": {},
   "source": [
    "#### 4.8.2 Using with TF-IDF"
   ]
  },
  {
   "cell_type": "code",
   "execution_count": null,
   "metadata": {},
   "outputs": [],
   "source": [
    "mlp_classifier_tfidf = MLPClassifier(hidden_layer_sizes=(100,), max_iter=300, random_state=42)"
   ]
  },
  {
   "cell_type": "code",
   "execution_count": null,
   "metadata": {},
   "outputs": [],
   "source": [
    "mlp_classifier_tfidf.fit(X_train_with_tfidf_vec,y_train)"
   ]
  },
  {
   "cell_type": "markdown",
   "metadata": {},
   "source": [
    "## 5. Predictions on Example Reviews "
   ]
  },
  {
   "cell_type": "code",
   "execution_count": null,
   "metadata": {},
   "outputs": [],
   "source": [
    "# Make predictions\n",
    "logistic_regression_predictions = logistic_regression_model.predict(X_test)\n",
    "random_forest_predictions = random_forest_model.predict(X_test)\n",
    "svm_predictions = svm_model.predict(X_test)\n"
   ]
  },
  {
   "cell_type": "markdown",
   "metadata": {},
   "source": [
    "## 6. Model Evaluation and Accuracy Metrics "
   ]
  },
  {
   "cell_type": "code",
   "execution_count": null,
   "metadata": {},
   "outputs": [],
   "source": [
    "# Evaluate accuracy\n",
    "logistic_regression_accuracy = accuracy_score(y_test, logistic_regression_predictions)\n",
    "random_forest_accuracy = accuracy_score(y_test, random_forest_predictions)\n",
    "svm_accuracy = accuracy_score(y_test, svm_predictions)"
   ]
  },
  {
   "cell_type": "code",
   "execution_count": null,
   "metadata": {},
   "outputs": [],
   "source": [
    "# Print the accuracies\n",
    "print(\"Logistic Regression Accuracy:\", logistic_regression_accuracy)\n",
    "print(\"Random Forest Accuracy:\", random_forest_accuracy)\n",
    "print(\"SVM Accuracy:\", svm_accuracy)\n"
   ]
  },
  {
   "cell_type": "markdown",
   "metadata": {},
   "source": [
    "## 7. Results Analysis and Conclusion"
   ]
  },
  {
   "cell_type": "code",
   "execution_count": null,
   "metadata": {},
   "outputs": [],
   "source": [
    "# Example Reviews\n",
    "example_reviews = [\n",
    "    \"I absolutely love this product! It's amazing.\",\n",
    "    \"The quality is terrible, and I regret buying it.\",\n",
    "    \"No complaints about this one!\",\n",
    "    \"You should avoid this product at all costs!\",\n",
    "]\n",
    "\n",
    "# Extract features for each example review\n",
    "example_features = [extract_features(review) for review in example_reviews]\n",
    "\n",
    "# Create a DataFrame for the example reviews\n",
    "example_df = pd.DataFrame(example_features, columns=columns)\n",
    "\n",
    "# Display the DataFrame\n",
    "print(\"Example Reviews DataFrame:\")\n",
    "print(example_df)\n",
    "\n",
    "# Make predictions on the example reviews\n",
    "logistic_regression_predictions_example = logistic_regression_model.predict(example_df)\n",
    "random_forest_predictions_example = random_forest_model.predict(example_df)\n",
    "svm_predictions_example = svm_model.predict(example_df)\n",
    "\n",
    "# Mapping function to convert model predictions to positive or negative labels\n",
    "def map_to_label(predictions):\n",
    "    return [\"Positive\" if pred == 1 else \"Negative\" for pred in predictions]\n",
    "\n",
    "# Apply the mapping function to the predictions\n",
    "logistic_regression_labels = map_to_label(logistic_regression_predictions_example)\n",
    "random_forest_labels = map_to_label(random_forest_predictions_example)\n",
    "svm_labels = map_to_label(svm_predictions_example)\n",
    "\n",
    "# Display mapped predictions\n",
    "print(\"\\nLogistic Regression Labels:\")\n",
    "print(logistic_regression_labels)\n",
    "\n",
    "print(\"\\nRandom Forest Labels:\")\n",
    "print(random_forest_labels)\n",
    "\n",
    "print(\"\\nSVM Labels:\")\n",
    "print(svm_labels)"
   ]
  }
 ],
 "metadata": {
  "kernelspec": {
   "display_name": "Python 3",
   "language": "python",
   "name": "python3"
  },
  "language_info": {
   "codemirror_mode": {
    "name": "ipython",
    "version": 3
   },
   "file_extension": ".py",
   "mimetype": "text/x-python",
   "name": "python",
   "nbconvert_exporter": "python",
   "pygments_lexer": "ipython3",
   "version": "3.12.1"
  }
 },
 "nbformat": 4,
 "nbformat_minor": 2
}
